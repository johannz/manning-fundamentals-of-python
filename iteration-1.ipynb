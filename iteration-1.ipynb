{
 "cells": [
  {
   "cell_type": "markdown",
   "source": [
    "Manning.com LiveProject - Iteration\n",
    "\n",
    "Unit 5 Solution 1\n",
    "\n",
    "Author: Adam Rinehart\n",
    "\n",
    "Date: 08/01/22"
   ],
   "metadata": {
    "collapsed": false,
    "pycharm": {
     "name": "#%% md\n"
    }
   }
  },
  {
   "cell_type": "code",
   "execution_count": 12,
   "metadata": {
    "collapsed": true,
    "pycharm": {
     "name": "#%%\n"
    }
   },
   "outputs": [
    {
     "name": "stdout",
     "output_type": "stream",
     "text": [
      "0\n",
      "1\n",
      "2\n",
      "3\n",
      "4\n",
      "0\n",
      "Can't access beyond 5\n"
     ]
    }
   ],
   "source": [
    "class Count:\n",
    "    def __init__(self, limit):\n",
    "        self.limit = limit\n",
    "\n",
    "    def __getitem__(self, index):\n",
    "        if index < self.limit:  # if index is less than self.limit, return index\n",
    "            return index\n",
    "        else:  # else raise an IndexError\n",
    "            raise IndexError\n",
    "\n",
    "\n",
    "count = Count(5)\n",
    "for number in count:\n",
    "    print(number)\n",
    "print(count[0])\n",
    "try:\n",
    "    print(count[8])\n",
    "except IndexError:\n",
    "    print(f\"Can't access beyond {count.limit}\")\n"
   ]
  },
  {
   "cell_type": "code",
   "execution_count": 15,
   "outputs": [
    {
     "name": "stdout",
     "output_type": "stream",
     "text": [
      "8\n",
      "Can't access beyond 6\n",
      "1\n",
      "1\n",
      "2\n",
      "3\n",
      "5\n",
      "8\n"
     ]
    }
   ],
   "source": [
    "class Fibonacci:\n",
    "    def __init__(self, limit):\n",
    "        # set the maximum number of Fibonacci numbers\n",
    "        self.limit = limit\n",
    "\n",
    "    def __getitem__(self, index):\n",
    "        if index < self.limit:\n",
    "            if index in (0, 1):\n",
    "                return 1\n",
    "            else:\n",
    "                return self.__getitem__(index - 2) + self.__getitem__(index - 1)\n",
    "        else:\n",
    "            raise IndexError\n",
    "\n",
    "\n",
    "fib = Fibonacci(6)\n",
    "print(fib[5])\n",
    "try:\n",
    "    print(fib[8])\n",
    "except IndexError:\n",
    "    print(f\"Can't access beyond {fib.limit}\")\n",
    "for number in fib:\n",
    "    print(number)\n"
   ],
   "metadata": {
    "collapsed": false,
    "pycharm": {
     "name": "#%%\n"
    }
   }
  },
  {
   "cell_type": "code",
   "execution_count": 13,
   "outputs": [],
   "source": [],
   "metadata": {
    "collapsed": false,
    "pycharm": {
     "name": "#%%\n"
    }
   }
  }
 ],
 "metadata": {
  "kernelspec": {
   "display_name": "Python 3",
   "language": "python",
   "name": "python3"
  },
  "language_info": {
   "codemirror_mode": {
    "name": "ipython",
    "version": 2
   },
   "file_extension": ".py",
   "mimetype": "text/x-python",
   "name": "python",
   "nbconvert_exporter": "python",
   "pygments_lexer": "ipython2",
   "version": "2.7.6"
  }
 },
 "nbformat": 4,
 "nbformat_minor": 0
}