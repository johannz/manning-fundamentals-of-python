{
 "cells": [
  {
   "cell_type": "markdown",
   "source": [
    "Manning.com LiveProject - Iteration\n",
    "\n",
    "Unit 5 Solution 2\n",
    "\n",
    "Author: Adam Rinehart\n",
    "\n",
    "Date: 08/03/22"
   ],
   "metadata": {
    "collapsed": false,
    "pycharm": {
     "name": "#%% md\n"
    }
   }
  },
  {
   "cell_type": "code",
   "execution_count": 84,
   "outputs": [
    {
     "name": "stdout",
     "output_type": "stream",
     "text": [
      "0\n",
      "1\n",
      "2\n",
      "3\n",
      "4\n"
     ]
    }
   ],
   "source": [
    "class CountIterator:\n",
    "    def __init__(self, limit):\n",
    "        self.limit = limit\n",
    "        self.count = 0\n",
    "\n",
    "    def __next__(self):\n",
    "        if self.count < self.limit:\n",
    "            value = self.count\n",
    "            self.count += 1\n",
    "            return value\n",
    "        else:\n",
    "            raise StopIteration\n",
    "\n",
    "    def __iter__(self):\n",
    "        return self\n",
    "\n",
    "\n",
    "for num in CountIterator(5):\n",
    "    print(num)"
   ],
   "metadata": {
    "collapsed": false,
    "pycharm": {
     "name": "#%%\n"
    }
   }
  },
  {
   "cell_type": "code",
   "execution_count": 85,
   "outputs": [],
   "source": [
    "class FibonacciIterator:\n",
    "    def __init__(self, limit):\n",
    "        # set the maximum number of Fibbonacci numbers\n",
    "        self.limit = limit\n",
    "        self.count = 0\n",
    "        self.last = 0\n",
    "        self.current = 0\n",
    "\n",
    "    def __next__(self):\n",
    "        index = self.count\n",
    "        self.count += 1\n",
    "        if index in (0, 1):\n",
    "            self.last = self.current\n",
    "            self.current = 1\n",
    "            return 1\n",
    "        elif index < self.limit:\n",
    "            result = self.last + self.current\n",
    "            self.last = self.current\n",
    "            self.current = result\n",
    "            return result\n",
    "        else:\n",
    "            raise StopIteration\n",
    "\n",
    "    def __iter__(self):\n",
    "        return self"
   ],
   "metadata": {
    "collapsed": false,
    "pycharm": {
     "name": "#%%\n"
    }
   }
  },
  {
   "cell_type": "code",
   "execution_count": 86,
   "outputs": [
    {
     "name": "stdout",
     "output_type": "stream",
     "text": [
      "1\n",
      "1\n",
      "2\n",
      "3\n",
      "5\n",
      "8\n"
     ]
    }
   ],
   "source": [
    "fibonacci_iterator = FibonacciIterator(6)\n",
    "for num in fibonacci_iterator:\n",
    "    print(num)"
   ],
   "metadata": {
    "collapsed": false,
    "pycharm": {
     "name": "#%%\n"
    }
   }
  },
  {
   "cell_type": "code",
   "execution_count": 87,
   "outputs": [
    {
     "name": "stdout",
     "output_type": "stream",
     "text": [
      "1\n",
      "----------------------------------------\n",
      "1\n",
      "2\n",
      "3\n",
      "5\n",
      "8\n",
      "----------------------------------------\n",
      "----------------------------------------\n",
      "Caught StopIteration\n"
     ]
    }
   ],
   "source": [
    "fibonacci_iterator = FibonacciIterator(6)\n",
    "print(next(fibonacci_iterator))\n",
    "print('-' * 40)\n",
    "for num in fibonacci_iterator:\n",
    "    print(num)\n",
    "print('-' * 40)\n",
    "for num in fibonacci_iterator:\n",
    "    print(num)\n",
    "print('-' * 40)\n",
    "try:\n",
    "    print(next(fibonacci_iterator))\n",
    "    print('No Exception')\n",
    "except StopIteration:\n",
    "    print('Caught StopIteration')"
   ],
   "metadata": {
    "collapsed": false,
    "pycharm": {
     "name": "#%%\n"
    }
   }
  },
  {
   "cell_type": "markdown",
   "source": [
    "next() followed by a for loop just finishes iterating over the iterator object\n",
    "\n",
    "If you reuse the iterator object, it skips the loop since the iterator immediately throws StopIteration. The for loop catches that and exits cleanly\n",
    "\n",
    "When you manually call next() after the iterator has been ran through, it raises the StopIteration. This is consistent with my expectations"
   ],
   "metadata": {
    "collapsed": false,
    "pycharm": {
     "name": "#%% md\n"
    }
   }
  },
  {
   "cell_type": "code",
   "execution_count": 88,
   "outputs": [
    {
     "name": "stdout",
     "output_type": "stream",
     "text": [
      "0\n",
      "1\n",
      "2\n",
      "3\n",
      "4\n"
     ]
    }
   ],
   "source": [
    "def count_generator(limit):\n",
    "    count = 0\n",
    "    while count < limit:\n",
    "        yield count\n",
    "        count += 1\n",
    "\n",
    "\n",
    "for x in count_generator(5):\n",
    "    print(x)"
   ],
   "metadata": {
    "collapsed": false,
    "pycharm": {
     "name": "#%%\n"
    }
   }
  },
  {
   "cell_type": "code",
   "execution_count": 89,
   "outputs": [],
   "source": [
    "def fibonacci_generator(limit):\n",
    "    count = 0\n",
    "    last = 0\n",
    "    current = 0\n",
    "\n",
    "    while count < limit:\n",
    "        (last, current) = (current, last + current)\n",
    "        if count in (0, 1):\n",
    "            current = 1\n",
    "        yield current\n",
    "        count += 1"
   ],
   "metadata": {
    "collapsed": false,
    "pycharm": {
     "name": "#%%\n"
    }
   }
  },
  {
   "cell_type": "code",
   "execution_count": 90,
   "outputs": [
    {
     "name": "stdout",
     "output_type": "stream",
     "text": [
      "1\n",
      "1\n",
      "2\n",
      "3\n",
      "5\n",
      "8\n"
     ]
    }
   ],
   "source": [
    "my_fibonacci = fibonacci_generator(6)\n",
    "for num in my_fibonacci:\n",
    "    print(num)"
   ],
   "metadata": {
    "collapsed": false,
    "pycharm": {
     "name": "#%%\n"
    }
   }
  },
  {
   "cell_type": "code",
   "execution_count": 91,
   "outputs": [
    {
     "name": "stdout",
     "output_type": "stream",
     "text": [
      "<class 'function'>\n",
      "<class 'generator'>\n",
      "----------------------------------------\n",
      "0\n",
      "----------------------------------------\n",
      "1\n",
      "2\n",
      "3\n",
      "4\n"
     ]
    }
   ],
   "source": [
    "print(type(count_generator))\n",
    "my_generator = count_generator(5)\n",
    "print(type(my_generator))\n",
    "print('-' * 40)\n",
    "print(next(my_generator))\n",
    "print('-' * 40)\n",
    "for num in my_generator:\n",
    "    print(num)"
   ],
   "metadata": {
    "collapsed": false,
    "pycharm": {
     "name": "#%%\n"
    }
   }
  },
  {
   "cell_type": "code",
   "execution_count": 91,
   "outputs": [],
   "source": [],
   "metadata": {
    "collapsed": false,
    "pycharm": {
     "name": "#%%\n"
    }
   }
  }
 ],
 "metadata": {
  "kernelspec": {
   "display_name": "Python 3",
   "language": "python",
   "name": "python3"
  },
  "language_info": {
   "codemirror_mode": {
    "name": "ipython",
    "version": 2
   },
   "file_extension": ".py",
   "mimetype": "text/x-python",
   "name": "python",
   "nbconvert_exporter": "python",
   "pygments_lexer": "ipython2",
   "version": "2.7.6"
  }
 },
 "nbformat": 4,
 "nbformat_minor": 0
}