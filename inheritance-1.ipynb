{
 "cells": [
  {
   "cell_type": "markdown",
   "source": [],
   "metadata": {
    "collapsed": false,
    "pycharm": {
     "name": "#%% md\n"
    }
   }
  },
  {
   "cell_type": "markdown",
   "source": [
    "Manning.com LiveProject - Inheritance\n",
    "\n",
    "Unit 4 Solution 1\n",
    "\n",
    "Author: Adam Rinehart\n",
    "\n",
    "Date: 08/01/22"
   ],
   "metadata": {
    "collapsed": false,
    "pycharm": {
     "name": "#%% md\n"
    }
   }
  },
  {
   "cell_type": "code",
   "execution_count": 44,
   "outputs": [],
   "source": [
    "class Animal:\n",
    "    def __init__(self, name):\n",
    "        self.name = name\n",
    "    def __repr__(self):\n",
    "        return self.name"
   ],
   "metadata": {
    "collapsed": false,
    "pycharm": {
     "name": "#%%\n"
    }
   }
  },
  {
   "cell_type": "code",
   "execution_count": 45,
   "outputs": [
    {
     "data": {
      "text/plain": "bob"
     },
     "execution_count": 45,
     "metadata": {},
     "output_type": "execute_result"
    }
   ],
   "source": [
    "animal = Animal(\"bob\")\n",
    "animal"
   ],
   "metadata": {
    "collapsed": false,
    "pycharm": {
     "name": "#%%\n"
    }
   }
  },
  {
   "cell_type": "code",
   "execution_count": 46,
   "metadata": {
    "collapsed": true,
    "pycharm": {
     "name": "#%%\n"
    }
   },
   "outputs": [
    {
     "data": {
      "text/plain": "'Chuck is running'"
     },
     "execution_count": 46,
     "metadata": {},
     "output_type": "execute_result"
    }
   ],
   "source": [
    "class Mammal(Animal):\n",
    "    def run(self):\n",
    "        return f\"{self} is running\"\n",
    "\n",
    "mammal = Mammal('Chuck')\n",
    "mammal.run()"
   ]
  },
  {
   "cell_type": "code",
   "execution_count": 47,
   "outputs": [],
   "source": [
    "class Wolf(Mammal):\n",
    "    def __init__(self, name):\n",
    "        super().__init__(name)\n",
    "    # Alternatively, I could have used pass but I wrote this before looking at the solution\n",
    "\n",
    "class Bear(Mammal):\n",
    "    def climb(self):\n",
    "        return f\"{self} is climbing\"\n"
   ],
   "metadata": {
    "collapsed": false,
    "pycharm": {
     "name": "#%%\n"
    }
   }
  },
  {
   "cell_type": "code",
   "execution_count": 48,
   "outputs": [
    {
     "data": {
      "text/plain": "'Big Bad Wolf is running'"
     },
     "execution_count": 48,
     "metadata": {},
     "output_type": "execute_result"
    }
   ],
   "source": [
    "big_bad_wolf = Wolf(\"Big Bad Wolf\")\n",
    "big_bad_wolf.run()"
   ],
   "metadata": {
    "collapsed": false,
    "pycharm": {
     "name": "#%%\n"
    }
   }
  },
  {
   "cell_type": "code",
   "execution_count": 49,
   "outputs": [
    {
     "data": {
      "text/plain": "'Yogi is climbing'"
     },
     "execution_count": 49,
     "metadata": {},
     "output_type": "execute_result"
    }
   ],
   "source": [
    "yogi = Bear(\"Yogi\")\n",
    "yogi.climb()"
   ],
   "metadata": {
    "collapsed": false,
    "pycharm": {
     "name": "#%%\n"
    }
   }
  },
  {
   "cell_type": "code",
   "execution_count": 50,
   "outputs": [
    {
     "name": "stdout",
     "output_type": "stream",
     "text": [
      "Eagly is flying at 100 ft\n"
     ]
    },
    {
     "data": {
      "text/plain": "'Daffy Duck is flying at 25 ft'"
     },
     "execution_count": 50,
     "metadata": {},
     "output_type": "execute_result"
    }
   ],
   "source": [
    "class Bird(Animal):\n",
    "    def __init__(self, name, altitude):\n",
    "        super().__init__(name)\n",
    "        self.altitude = altitude\n",
    "\n",
    "    def fly(self):\n",
    "        return f\"{self} is flying at {self.altitude} ft\"\n",
    "\n",
    "class Eagle(Bird):\n",
    "    pass\n",
    "\n",
    "class Duck(Bird):\n",
    "    def __init__(self, name, altitude = 25):\n",
    "        super().__init__(name, altitude)\n",
    "\n",
    "eagly = Eagle(\"Eagly\", 100)\n",
    "print(eagly.fly())\n",
    "\n",
    "daffy = Duck(\"Daffy Duck\")\n",
    "daffy.fly()"
   ],
   "metadata": {
    "collapsed": false,
    "pycharm": {
     "name": "#%%\n"
    }
   }
  },
  {
   "cell_type": "code",
   "execution_count": 51,
   "outputs": [],
   "source": [
    "class Fish(Animal):\n",
    "    # initially I had depth as a field at initialization, moved to swim method after watching solution\n",
    "\n",
    "    def swim(self):\n",
    "        return f\"{self} is swimming\"\n",
    "\n",
    "class Trout(Fish):\n",
    "    def __init__(self, name):\n",
    "        super().__init__(name)\n",
    "        self.depth = 0\n",
    "\n",
    "    def swim(self, depth):\n",
    "        # IDE Didn't like me initializing outside of __init__ so I'm adding one\n",
    "        self.depth = depth\n",
    "        return f\"{super().swim()} at depth of {self.depth}\"\n",
    "\n",
    "class Frogs(Fish):\n",
    "    pass\n"
   ],
   "metadata": {
    "collapsed": false,
    "pycharm": {
     "name": "#%%\n"
    }
   }
  },
  {
   "cell_type": "code",
   "execution_count": 52,
   "outputs": [
    {
     "data": {
      "text/plain": "'Mr. Limpet is swimming at depth of 100'"
     },
     "execution_count": 52,
     "metadata": {},
     "output_type": "execute_result"
    }
   ],
   "source": [
    "limpet = Trout(\"Mr. Limpet\")\n",
    "limpet.swim(100)\n"
   ],
   "metadata": {
    "collapsed": false,
    "pycharm": {
     "name": "#%%\n"
    }
   }
  },
  {
   "cell_type": "code",
   "execution_count": 53,
   "outputs": [
    {
     "ename": "TypeError",
     "evalue": "swim() missing 1 required positional argument: 'depth'",
     "output_type": "error",
     "traceback": [
      "\u001B[1;31m---------------------------------------------------------------------------\u001B[0m",
      "\u001B[1;31mTypeError\u001B[0m                                 Traceback (most recent call last)",
      "Input \u001B[1;32mIn [53]\u001B[0m, in \u001B[0;36m<cell line: 2>\u001B[1;34m()\u001B[0m\n\u001B[0;32m      1\u001B[0m \u001B[38;5;66;03m# Can't do overload?\u001B[39;00m\n\u001B[1;32m----> 2\u001B[0m \u001B[43mlimpet\u001B[49m\u001B[38;5;241;43m.\u001B[39;49m\u001B[43mswim\u001B[49m\u001B[43m(\u001B[49m\u001B[43m)\u001B[49m\n",
      "\u001B[1;31mTypeError\u001B[0m: swim() missing 1 required positional argument: 'depth'"
     ]
    }
   ],
   "source": [
    "# Can't do overload?\n",
    "limpet.swim()"
   ],
   "metadata": {
    "collapsed": false,
    "pycharm": {
     "name": "#%%\n"
    }
   }
  },
  {
   "cell_type": "code",
   "execution_count": null,
   "outputs": [],
   "source": [
    "kermit = Frogs(\"Kermit\")\n",
    "kermit.swim()"
   ],
   "metadata": {
    "collapsed": false,
    "pycharm": {
     "name": "#%%\n"
    }
   }
  },
  {
   "cell_type": "code",
   "execution_count": null,
   "outputs": [],
   "source": [],
   "metadata": {
    "collapsed": false,
    "pycharm": {
     "name": "#%%\n"
    }
   }
  }
 ],
 "metadata": {
  "kernelspec": {
   "display_name": "Python 3",
   "language": "python",
   "name": "python3"
  },
  "language_info": {
   "codemirror_mode": {
    "name": "ipython",
    "version": 2
   },
   "file_extension": ".py",
   "mimetype": "text/x-python",
   "name": "python",
   "nbconvert_exporter": "python",
   "pygments_lexer": "ipython2",
   "version": "2.7.6"
  }
 },
 "nbformat": 4,
 "nbformat_minor": 0
}