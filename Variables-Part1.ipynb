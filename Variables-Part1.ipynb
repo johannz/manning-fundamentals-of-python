{
 "cells": [
  {
   "cell_type": "markdown",
   "metadata": {
    "pycharm": {
     "name": "#%% md\n"
    }
   },
   "source": [
    "Manning.com LiveProject - Python Variables\n",
    "\n",
    "Unit 1 Solution 1\n",
    "\n",
    "Author: Adam Rinehart\n",
    "\n",
    "Date: 07/28/22\n",
    "\n",
    "Purpose:\n",
    " * Get an evidence-based understanding of how variables behave in Python.\n",
    " * Explore how setting two variables to the same value may (or may not) mean a deeper connection."
   ]
  },
  {
   "cell_type": "code",
   "execution_count": 1,
   "metadata": {
    "pycharm": {
     "name": "#%%\n"
    }
   },
   "outputs": [
    {
     "name": "stdout",
     "output_type": "stream",
     "text": [
      "2 1\n",
      "2141054855504 2141054855472\n"
     ]
    }
   ],
   "source": [
    "a = 1\n",
    "b = a\n",
    "\n",
    "a = 2\n",
    "\n",
    "print(a, b)\n",
    "print(id(a), id(b))"
   ]
  },
  {
   "cell_type": "code",
   "execution_count": 2,
   "metadata": {
    "pycharm": {
     "name": "#%%\n"
    }
   },
   "outputs": [
    {
     "name": "stdout",
     "output_type": "stream",
     "text": [
      "2.0 1.0\n",
      "2141141893840 2141141896048\n"
     ]
    }
   ],
   "source": [
    "a = 1.0\n",
    "b = a\n",
    "\n",
    "a = 2.0\n",
    "\n",
    "print(a, b)\n",
    "print(id(a), id(b))"
   ]
  },
  {
   "cell_type": "code",
   "execution_count": 3,
   "metadata": {
    "pycharm": {
     "name": "#%%\n"
    }
   },
   "outputs": [
    {
     "name": "stdout",
     "output_type": "stream",
     "text": [
      "bob adam\n",
      "2141141773680 2141141773488\n"
     ]
    }
   ],
   "source": [
    "a = \"adam\"\n",
    "b = a\n",
    "\n",
    "a = 'bob'\n",
    "\n",
    "print(a, b)\n",
    "print(id(a), id(b))"
   ]
  },
  {
   "cell_type": "code",
   "execution_count": 4,
   "metadata": {
    "pycharm": {
     "name": "#%%\n"
    }
   },
   "outputs": [
    {
     "name": "stdout",
     "output_type": "stream",
     "text": [
      "[4, 5, 3] [4, 5, 3]\n",
      "2141142064512 2141142064512\n",
      "[4, 5, 3] [3, 4, 5]\n",
      "2141142064512 2141142064960\n",
      "[6, 7, 8] [3, 4, 5]\n",
      "2141142063040 2141142064960\n"
     ]
    }
   ],
   "source": [
    "a = [1, 2, 3]\n",
    "b = a\n",
    "\n",
    "a[0] = 4\n",
    "b[1] = 5\n",
    "print(a, b)\n",
    "print(id(a), id(b))\n",
    "\n",
    "b = sorted(b)\n",
    "print(a, b)\n",
    "print(id(a), id(b))\n",
    "\n",
    "a = [6, 7, 8]\n",
    "print(a, b)\n",
    "print(id(a), id(b))\n"
   ]
  },
  {
   "cell_type": "code",
   "execution_count": 5,
   "metadata": {
    "pycharm": {
     "name": "#%%\n"
    }
   },
   "outputs": [
    {
     "name": "stdout",
     "output_type": "stream",
     "text": [
      "(6, 7, 8) (1, 2, 3)\n",
      "2141142004608 2141141949184\n"
     ]
    }
   ],
   "source": [
    "a = (1, 2, 3)\n",
    "b = a\n",
    "\n",
    "a = (6, 7, 8)\n",
    "print(a, b)\n",
    "print(id(a), id(b))"
   ]
  },
  {
   "cell_type": "code",
   "execution_count": 6,
   "metadata": {
    "pycharm": {
     "name": "#%%\n"
    }
   },
   "outputs": [
    {
     "name": "stdout",
     "output_type": "stream",
     "text": [
      "{'adam': 'bob', 'charlie': 'dan'} {'adam': 'bob', 'charlie': 'dan'}\n",
      "2141142069952 2141142069952\n"
     ]
    }
   ],
   "source": [
    "a = {'adam': 'bob'}\n",
    "b = a\n",
    "\n",
    "b['charlie'] = 'dan'\n",
    "print(a, b)\n",
    "print(id(a), id(b))"
   ]
  },
  {
   "cell_type": "markdown",
   "metadata": {
    "pycharm": {
     "name": "#%% md\n"
    }
   },
   "source": [
    "Variables are labels for memory locations. When you assign one variable to another, they both point to the same object in memory.\n",
    "\n",
    "If the underlying object is immutable, changing the variable points it at a different instance\n",
    "\n",
    "If the underlying object is mutable, changes happen to the underlying instance. Reassigning the variable would then point to a new (or different) object"
   ]
  }
 ],
 "metadata": {
  "kernelspec": {
   "display_name": "Python 3 (ipykernel)",
   "language": "python",
   "name": "python3"
  },
  "language_info": {
   "codemirror_mode": {
    "name": "ipython",
    "version": 3
   },
   "file_extension": ".py",
   "mimetype": "text/x-python",
   "name": "python",
   "nbconvert_exporter": "python",
   "pygments_lexer": "ipython3",
   "version": "3.9.12"
  }
 },
 "nbformat": 4,
 "nbformat_minor": 1
}
