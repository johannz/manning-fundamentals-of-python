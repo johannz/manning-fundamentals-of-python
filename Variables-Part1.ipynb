{
 "cells": [
  {
   "cell_type": "code",
   "execution_count": 1,
   "metadata": {
    "collapsed": true,
    "pycharm": {
     "name": "#%%\n"
    }
   },
   "outputs": [
    {
     "name": "stdout",
     "output_type": "stream",
     "text": [
      "2 1\n",
      "2893732014416 2893732014384\n"
     ]
    }
   ],
   "source": [
    "a = 1\n",
    "b = a\n",
    "\n",
    "a = 2\n",
    "\n",
    "print(a, b)\n",
    "print(id(a), id(b))"
   ]
  },
  {
   "cell_type": "code",
   "execution_count": 2,
   "outputs": [
    {
     "name": "stdout",
     "output_type": "stream",
     "text": [
      "2.0 1.0\n",
      "2893815315216 2893815316048\n"
     ]
    }
   ],
   "source": [
    "a = 1.0\n",
    "b = a\n",
    "\n",
    "a = 2.0\n",
    "\n",
    "print(a, b)\n",
    "print(id(a), id(b))"
   ],
   "metadata": {
    "collapsed": false,
    "pycharm": {
     "name": "#%%\n"
    }
   }
  },
  {
   "cell_type": "code",
   "execution_count": 3,
   "outputs": [
    {
     "name": "stdout",
     "output_type": "stream",
     "text": [
      "bob adam\n",
      "2893815195056 2893815244016\n"
     ]
    }
   ],
   "source": [
    "a = \"adam\"\n",
    "b = a\n",
    "\n",
    "a = 'bob'\n",
    "\n",
    "print(a, b)\n",
    "print(id(a), id(b))"
   ],
   "metadata": {
    "collapsed": false,
    "pycharm": {
     "name": "#%%\n"
    }
   }
  },
  {
   "cell_type": "code",
   "execution_count": 9,
   "outputs": [
    {
     "name": "stdout",
     "output_type": "stream",
     "text": [
      "[4, 5, 3] [4, 5, 3]\n",
      "2893852357888 2893852357888\n",
      "[4, 5, 3] [3, 4, 5]\n",
      "2893852357888 2893815134400\n",
      "[6, 7, 8] [3, 4, 5]\n",
      "2893815444160 2893815134400\n"
     ]
    }
   ],
   "source": [
    "a = [1, 2, 3]\n",
    "b = a\n",
    "\n",
    "a[0] = 4\n",
    "b[1] = 5\n",
    "print(a, b)\n",
    "print(id(a), id(b))\n",
    "\n",
    "b = sorted(b)\n",
    "print(a, b)\n",
    "print(id(a), id(b))\n",
    "\n",
    "a = [6, 7, 8]\n",
    "print(a, b)\n",
    "print(id(a), id(b))\n"
   ],
   "metadata": {
    "collapsed": false,
    "pycharm": {
     "name": "#%%\n"
    }
   }
  },
  {
   "cell_type": "code",
   "execution_count": 5,
   "outputs": [
    {
     "name": "stdout",
     "output_type": "stream",
     "text": [
      "(6, 7, 8) (1, 2, 3)\n",
      "2893815393600 2893815390656\n"
     ]
    }
   ],
   "source": [
    "a = (1, 2, 3)\n",
    "b = a\n",
    "\n",
    "a = (6, 7, 8)\n",
    "print(a, b)\n",
    "print(id(a), id(b))"
   ],
   "metadata": {
    "collapsed": false,
    "pycharm": {
     "name": "#%%\n"
    }
   }
  },
  {
   "cell_type": "code",
   "execution_count": 6,
   "outputs": [
    {
     "name": "stdout",
     "output_type": "stream",
     "text": [
      "{'adam': 'bob', 'charlie': 'dan'} {'adam': 'bob', 'charlie': 'dan'}\n",
      "2893815461632 2893815461632\n"
     ]
    }
   ],
   "source": [
    "a = {'adam': 'bob'}\n",
    "b = a\n",
    "\n",
    "b['charlie'] = 'dan'\n",
    "print(a, b)\n",
    "print(id(a), id(b))"
   ],
   "metadata": {
    "collapsed": false,
    "pycharm": {
     "name": "#%%\n"
    }
   }
  },
  {
   "cell_type": "markdown",
   "source": [
    "Variables are labels for memory locations. When you assign one variable to another, they both point to the same object in memory.\n",
    "\n",
    "If the underlying object is immutable, changing the variable points it at a different instance\n",
    "\n",
    "If the underlying object is mutable, changes happen to the underlying instance. Reassigning the variable would then point to a new (or different) object"
   ],
   "metadata": {
    "collapsed": false,
    "pycharm": {
     "name": "#%% md\n"
    }
   }
  }
 ],
 "metadata": {
  "kernelspec": {
   "display_name": "Python 3",
   "language": "python",
   "name": "python3"
  },
  "language_info": {
   "codemirror_mode": {
    "name": "ipython",
    "version": 2
   },
   "file_extension": ".py",
   "mimetype": "text/x-python",
   "name": "python",
   "nbconvert_exporter": "python",
   "pygments_lexer": "ipython2",
   "version": "2.7.6"
  }
 },
 "nbformat": 4,
 "nbformat_minor": 0
}