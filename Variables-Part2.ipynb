{
 "cells": [
  {
   "cell_type": "markdown",
   "source": [
    "Manning.com LiveProject - Python Variables\n",
    "Unit 1 Solution 2\n",
    "Author: Adam Rinehart\n",
    "Date: 07/28/22\n",
    "Purpose:\n",
    " * Get an evidence-based understanding of how variables behave in Python.\n",
    " * Explore how setting two variables to the same value may (or may not) mean a deeper connection."
   ],
   "metadata": {
    "collapsed": false,
    "pycharm": {
     "name": "#%% md\n"
    }
   }
  },
  {
   "cell_type": "code",
   "execution_count": 7,
   "outputs": [
    {
     "name": "stdout",
     "output_type": "stream",
     "text": [
      "2 1\n",
      "2419118532944 2419118532912\n"
     ]
    }
   ],
   "source": [
    "a = 1\n",
    "b = a\n",
    "\n",
    "a = 2\n",
    "\n",
    "print(a, b)\n",
    "print(id(a), id(b))"
   ],
   "metadata": {
    "collapsed": false,
    "pycharm": {
     "name": "#%%\n"
    }
   }
  },
  {
   "cell_type": "code",
   "execution_count": 8,
   "outputs": [
    {
     "name": "stdout",
     "output_type": "stream",
     "text": [
      "2.0 1.0\n",
      "2419205173520 2419205175696\n"
     ]
    }
   ],
   "source": [
    "a = 1.0\n",
    "b = a\n",
    "\n",
    "a = 2.0\n",
    "\n",
    "print(a, b)\n",
    "print(id(a), id(b))"
   ],
   "metadata": {
    "collapsed": false,
    "pycharm": {
     "name": "#%%\n"
    }
   }
  },
  {
   "cell_type": "code",
   "execution_count": 9,
   "outputs": [
    {
     "name": "stdout",
     "output_type": "stream",
     "text": [
      "bob adam\n",
      "2419205014192 2419205092528\n"
     ]
    }
   ],
   "source": [
    "a = \"adam\"\n",
    "b = a\n",
    "\n",
    "a = 'bob'\n",
    "\n",
    "print(a, b)\n",
    "print(id(a), id(b))"
   ],
   "metadata": {
    "collapsed": false,
    "pycharm": {
     "name": "#%%\n"
    }
   }
  },
  {
   "cell_type": "code",
   "execution_count": 10,
   "outputs": [
    {
     "name": "stdout",
     "output_type": "stream",
     "text": [
      "[4, 5, 3] [4, 5, 3]\n",
      "2419205324032 2419205324032\n",
      "[4, 5, 3] [3, 4, 5]\n",
      "2419205324032 2419205325760\n",
      "[6, 7, 8] [3, 4, 5]\n",
      "2419205325312 2419205325760\n"
     ]
    }
   ],
   "source": [
    "a = [1, 2, 3]\n",
    "b = a\n",
    "\n",
    "a[0] = 4\n",
    "b[1] = 5\n",
    "print(a, b)\n",
    "print(id(a), id(b))\n",
    "\n",
    "b = sorted(b)\n",
    "print(a, b)\n",
    "print(id(a), id(b))\n",
    "\n",
    "a = [6, 7, 8]\n",
    "print(a, b)\n",
    "print(id(a), id(b))\n"
   ],
   "metadata": {
    "collapsed": false,
    "pycharm": {
     "name": "#%%\n"
    }
   }
  },
  {
   "cell_type": "code",
   "execution_count": 11,
   "outputs": [
    {
     "name": "stdout",
     "output_type": "stream",
     "text": [
      "(6, 7, 8) (1, 2, 3)\n",
      "2419205250752 2419205250560\n"
     ]
    }
   ],
   "source": [
    "a = (1, 2, 3)\n",
    "b = a\n",
    "\n",
    "a = (6, 7, 8)\n",
    "print(a, b)\n",
    "print(id(a), id(b))"
   ],
   "metadata": {
    "collapsed": false,
    "pycharm": {
     "name": "#%%\n"
    }
   }
  },
  {
   "cell_type": "code",
   "execution_count": 12,
   "outputs": [
    {
     "name": "stdout",
     "output_type": "stream",
     "text": [
      "{'adam': 'bob', 'charlie': 'dan'} {'adam': 'bob', 'charlie': 'dan'}\n",
      "2419205306496 2419205306496\n"
     ]
    }
   ],
   "source": [
    "a = {'adam': 'bob'}\n",
    "b = a\n",
    "\n",
    "b['charlie'] = 'dan'\n",
    "print(a, b)\n",
    "print(id(a), id(b))"
   ],
   "metadata": {
    "collapsed": false,
    "pycharm": {
     "name": "#%%\n"
    }
   }
  },
  {
   "cell_type": "markdown",
   "source": [
    "Variables are labels for memory locations. When you assign one variable to another, they both point to the same object in memory.\n",
    "\n",
    "If the underlying object is immutable, changing the variable points it at a different instance\n",
    "\n",
    "If the underlying object is mutable, changes happen to the underlying instance. Reassigning the variable would then point to a new (or different) object"
   ],
   "metadata": {
    "collapsed": false,
    "pycharm": {
     "name": "#%% md\n"
    }
   }
  }
 ],
 "metadata": {
  "kernelspec": {
   "display_name": "Python 3",
   "language": "python",
   "name": "python3"
  },
  "language_info": {
   "codemirror_mode": {
    "name": "ipython",
    "version": 2
   },
   "file_extension": ".py",
   "mimetype": "text/x-python",
   "name": "python",
   "nbconvert_exporter": "python",
   "pygments_lexer": "ipython2",
   "version": "2.7.6"
  }
 },
 "nbformat": 4,
 "nbformat_minor": 0
}