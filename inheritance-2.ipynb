{
 "cells": [
  {
   "cell_type": "markdown",
   "source": [
    "Manning.com LiveProject - Inheritance\n",
    "\n",
    "Unit 4 Solution 2\n",
    "\n",
    "Author: Adam Rinehart\n",
    "\n",
    "Date: 08/01/22"
   ],
   "metadata": {
    "collapsed": false,
    "pycharm": {
     "name": "#%% md\n"
    }
   }
  },
  {
   "cell_type": "code",
   "execution_count": 39,
   "metadata": {
    "collapsed": true,
    "pycharm": {
     "name": "#%%\n"
    }
   },
   "outputs": [],
   "source": [
    "class Climber:\n",
    "    def climb(self):\n",
    "        return f\"{self} is climbing\"\n",
    "\n",
    "\n",
    "class Flyer:\n",
    "    def fly(self):\n",
    "        return f\"{self} is flying\"\n",
    "\n",
    "\n",
    "class Jumper:\n",
    "    def jump(self):\n",
    "        return f\"{self} is jumping\"\n",
    "\n",
    "\n",
    "class Runner:\n",
    "    def run(self):\n",
    "        return f\"{self} is running\"\n",
    "\n",
    "\n",
    "class Swimmer:\n",
    "    def swim(self, depth=None):\n",
    "        if depth is not None:\n",
    "            self.depth = depth\n",
    "            return f\"{self} is swimming at depth of {self.depth} ft\"\n",
    "        else:\n",
    "            return f\"{self} is swimming at the surface\"\n"
   ]
  },
  {
   "cell_type": "code",
   "execution_count": 40,
   "outputs": [],
   "source": [
    "class Animal():\n",
    "    def __init__(self, name):\n",
    "        self.name = name\n",
    "\n",
    "    def __repr__(self):\n",
    "        return self.name\n",
    "\n",
    "class Mammal(Animal, Runner):\n",
    "    pass\n",
    "\n",
    "class Wolf(Mammal):\n",
    "    pass\n",
    "\n",
    "class Bear(Mammal, Climber):\n",
    "    pass\n",
    "\n",
    "class Fish(Animal, Swimmer):\n",
    "    pass\n",
    "\n",
    "class Trout(Fish):\n",
    "    def swim(self, depth):\n",
    "        return super().swim(depth)\n",
    "\n",
    "class Bird(Animal, Flyer):\n",
    "    pass\n",
    "\n",
    "class Eagle(Bird):\n",
    "    pass\n",
    "\n",
    "class Duck(Bird, Swimmer):\n",
    "    def swim(self):\n",
    "        return super().swim(None)\n",
    "    def waddle(self):\n",
    "        return f\"{self} is waddling\"\n",
    "\n",
    "class Amphibian(Animal, Swimmer):\n",
    "    pass\n",
    "\n",
    "class Frog(Amphibian, Jumper):\n",
    "    pass\n"
   ],
   "metadata": {
    "collapsed": false,
    "pycharm": {
     "name": "#%%\n"
    }
   }
  },
  {
   "cell_type": "code",
   "execution_count": 41,
   "outputs": [
    {
     "data": {
      "text/plain": "'Wolfie is running'"
     },
     "execution_count": 41,
     "metadata": {},
     "output_type": "execute_result"
    }
   ],
   "source": [
    "wolf = Wolf(\"Wolfie\")\n",
    "wolf.run()"
   ],
   "metadata": {
    "collapsed": false,
    "pycharm": {
     "name": "#%%\n"
    }
   }
  },
  {
   "cell_type": "code",
   "execution_count": 42,
   "outputs": [
    {
     "name": "stdout",
     "output_type": "stream",
     "text": [
      "Yogi is running\n",
      "Yogi is climbing\n"
     ]
    }
   ],
   "source": [
    "bear = Bear(\"Yogi\")\n",
    "print(bear.run())\n",
    "print(bear.climb())"
   ],
   "metadata": {
    "collapsed": false,
    "pycharm": {
     "name": "#%%\n"
    }
   }
  },
  {
   "cell_type": "code",
   "execution_count": 43,
   "outputs": [
    {
     "data": {
      "text/plain": "'Mr Limpet is swimming at depth of 25 ft'"
     },
     "execution_count": 43,
     "metadata": {},
     "output_type": "execute_result"
    }
   ],
   "source": [
    "trout = Trout(\"Mr Limpet\")\n",
    "trout.swim(25)"
   ],
   "metadata": {
    "collapsed": false,
    "pycharm": {
     "name": "#%%\n"
    }
   }
  },
  {
   "cell_type": "code",
   "execution_count": 44,
   "outputs": [
    {
     "data": {
      "text/plain": "'Eagly is flying'"
     },
     "execution_count": 44,
     "metadata": {},
     "output_type": "execute_result"
    }
   ],
   "source": [
    "eagle = Eagle(\"Eagly\")\n",
    "eagle.fly()"
   ],
   "metadata": {
    "collapsed": false,
    "pycharm": {
     "name": "#%%\n"
    }
   }
  },
  {
   "cell_type": "code",
   "execution_count": 45,
   "outputs": [
    {
     "name": "stdout",
     "output_type": "stream",
     "text": [
      "Daffy is swimming at the surface\n",
      "Daffy is flying\n",
      "Daffy is waddling\n"
     ]
    }
   ],
   "source": [
    "duck = Duck(\"Daffy\")\n",
    "print(duck.swim())\n",
    "print(duck.fly())\n",
    "print(duck.waddle())"
   ],
   "metadata": {
    "collapsed": false,
    "pycharm": {
     "name": "#%%\n"
    }
   }
  },
  {
   "cell_type": "code",
   "execution_count": 46,
   "outputs": [
    {
     "name": "stdout",
     "output_type": "stream",
     "text": [
      "Kermit is swimming at the surface\n",
      "Kermit is swimming at depth of 10 ft\n",
      "Kermit is jumping\n"
     ]
    }
   ],
   "source": [
    "frog = Frog(\"Kermit\")\n",
    "print(frog.swim())\n",
    "print(frog.swim(10))\n",
    "print(frog.jump())"
   ],
   "metadata": {
    "collapsed": false,
    "pycharm": {
     "name": "#%%\n"
    }
   }
  },
  {
   "cell_type": "code",
   "execution_count": 47,
   "outputs": [
    {
     "ename": "TypeError",
     "evalue": "swim() missing 1 required positional argument: 'depth'",
     "output_type": "error",
     "traceback": [
      "\u001B[1;31m---------------------------------------------------------------------------\u001B[0m",
      "\u001B[1;31mTypeError\u001B[0m                                 Traceback (most recent call last)",
      "Input \u001B[1;32mIn [47]\u001B[0m, in \u001B[0;36m<cell line: 4>\u001B[1;34m()\u001B[0m\n\u001B[0;32m      1\u001B[0m \u001B[38;5;66;03m# Left next line commented because Duck hides the swim method in Swimmer that takes an optional depth\u001B[39;00m\n\u001B[0;32m      2\u001B[0m \u001B[38;5;66;03m# print(duck.swim(10))\u001B[39;00m\n\u001B[0;32m      3\u001B[0m \u001B[38;5;66;03m# Expect this to fail since depth is required in Trout, even though it's not required in Swimmer\u001B[39;00m\n\u001B[1;32m----> 4\u001B[0m \u001B[43mtrout\u001B[49m\u001B[38;5;241;43m.\u001B[39;49m\u001B[43mswim\u001B[49m\u001B[43m(\u001B[49m\u001B[43m)\u001B[49m\n",
      "\u001B[1;31mTypeError\u001B[0m: swim() missing 1 required positional argument: 'depth'"
     ]
    }
   ],
   "source": [
    "# Left next line commented because Duck hides the swim method in Swimmer that takes an optional depth\n",
    "# print(duck.swim(10))\n",
    "# Expect this to fail since depth is required in Trout, even though it's not required in Swimmer\n",
    "trout.swim()"
   ],
   "metadata": {
    "collapsed": false,
    "pycharm": {
     "name": "#%%\n"
    }
   }
  }
 ],
 "metadata": {
  "kernelspec": {
   "display_name": "Python 3",
   "language": "python",
   "name": "python3"
  },
  "language_info": {
   "codemirror_mode": {
    "name": "ipython",
    "version": 2
   },
   "file_extension": ".py",
   "mimetype": "text/x-python",
   "name": "python",
   "nbconvert_exporter": "python",
   "pygments_lexer": "ipython2",
   "version": "2.7.6"
  }
 },
 "nbformat": 4,
 "nbformat_minor": 0
}