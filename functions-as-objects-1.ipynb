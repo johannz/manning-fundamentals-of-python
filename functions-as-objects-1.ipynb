{
 "cells": [
  {
   "cell_type": "markdown",
   "source": [
    "Manning.com LiveProject - Python Fundamentals 2 - Functions as Objects\n",
    "\n",
    "Unit 1 Solution 1\n",
    "\n",
    "Author: Adam Rinehart\n",
    "\n",
    "Date: 08/04/22"
   ],
   "metadata": {
    "collapsed": false,
    "pycharm": {
     "name": "#%% md\n"
    }
   }
  },
  {
   "cell_type": "code",
   "execution_count": 41,
   "metadata": {
    "collapsed": true,
    "pycharm": {
     "name": "#%%\n"
    }
   },
   "outputs": [],
   "source": [
    "products = [[\"SKU\", \"description\", \"cost\", \"list_price\", \"units_in_stock\", \"target_margin\"],\n",
    "            ['  20776', 'Budget Device\\tMini\\n1000-pack', '$284.43', '$406.563',\n",
    "             '673', '42.9%'],\n",
    "            ['  13508', 'Budget Widget\\tExtra Large\\n1000-pack', '$207.49', '$270.203',\n",
    "             '461', '30.2%'],\n",
    "            ['   1261', 'Super Whatsit\\tMini\\nDozen', '$1,091.33', '$1,485.85', '368',\n",
    "             '36.1%'],\n",
    "            ['  49367', 'Super Gizmo\\tExtra Large\\nGross', '$1,977.36', '$2,589.87',\n",
    "             '2,585', '31.0%'],\n",
    "            ['  39655', 'Student Gadget\\tMini\\nGross', '$437.97', '$656.749', '4,452',\n",
    "             '50.0%']]"
   ]
  },
  {
   "cell_type": "code",
   "execution_count": 42,
   "outputs": [],
   "source": [
    "def get_sku(field: str) -> str:\n",
    "    \"\"\"returns the contents of a field after removing leading or trailing spaces\"\"\"\n",
    "    return field.strip()\n",
    "\n",
    "\n",
    "def get_description(field: str) -> str:\n",
    "    \"\"\"returns the contents of a field after replacing tabs and new lines with spaces\"\"\"\n",
    "    return field.replace('\\t', ' ').replace('\\n', ' ')\n",
    "\n",
    "\n",
    "def get_currency(field: str) -> float:\n",
    "    \"\"\"returns the contents of a field after removing ‘$’ and commas and converting to float\"\"\"\n",
    "    return float(field.replace('$', '').replace(',', ''))\n",
    "\n",
    "\n",
    "def get_integer(field: str) -> int:\n",
    "    \"\"\"returns the contents of a field after removing commas and converting to integer\"\"\"\n",
    "    return int(field.replace(',', ''))\n",
    "\n",
    "\n",
    "def get_percent(field: str) -> float:\n",
    "    \"\"\"returns the contents of a field after removing ‘%’ and commas and converting to fraction, for example float(field_contents) / 100\"\"\"\n",
    "    return float(field.replace('%', '').replace(',', '')) / 100"
   ],
   "metadata": {
    "collapsed": false,
    "pycharm": {
     "name": "#%%\n"
    }
   }
  },
  {
   "cell_type": "code",
   "execution_count": 43,
   "outputs": [],
   "source": [
    "def convert_data(data: list, converter) -> list:\n",
    "    return [converter(data_row) for data_row in data]"
   ],
   "metadata": {
    "collapsed": false,
    "pycharm": {
     "name": "#%%\n"
    }
   }
  },
  {
   "cell_type": "code",
   "execution_count": 44,
   "outputs": [],
   "source": [
    "def if_converter(product_row: list) -> list:\n",
    "    converted = []\n",
    "    for i, value in enumerate(product_row):\n",
    "        if i == 0:\n",
    "            converted.append(get_sku(value))\n",
    "        elif i == 1:\n",
    "            converted.append(get_description(value))\n",
    "        elif i == 2:\n",
    "            converted.append(get_currency(value))\n",
    "        elif i == 3:\n",
    "            converted.append(get_currency(value))\n",
    "        elif i == 4:\n",
    "            converted.append(get_integer(value))\n",
    "        elif i == 5:\n",
    "            converted.append(get_percent(value))\n",
    "    return converted\n"
   ],
   "metadata": {
    "collapsed": false,
    "pycharm": {
     "name": "#%%\n"
    }
   }
  },
  {
   "cell_type": "code",
   "execution_count": 45,
   "outputs": [
    {
     "name": "stdout",
     "output_type": "stream",
     "text": [
      "['13508', 'Budget Widget Extra Large 1000-pack', 207.49, 270.203, 461, 0.302]\n",
      "['1261', 'Super Whatsit Mini Dozen', 1091.33, 1485.85, 368, 0.361]\n",
      "['49367', 'Super Gizmo Extra Large Gross', 1977.36, 2589.87, 2585, 0.31]\n",
      "['39655', 'Student Gadget Mini Gross', 437.97, 656.749, 4452, 0.5]\n"
     ]
    }
   ],
   "source": [
    "for row in convert_data(products[2:], if_converter):\n",
    "    print(row)"
   ],
   "metadata": {
    "collapsed": false,
    "pycharm": {
     "name": "#%%\n"
    }
   }
  },
  {
   "cell_type": "code",
   "execution_count": 46,
   "outputs": [],
   "source": [
    "def clean_spaces(field: str) -> str:\n",
    "    \"\"\"to remove leading and trailing spaces\"\"\"\n",
    "    return field.strip()\n",
    "\n",
    "\n",
    "def clean_whitespace(field: str) -> str:\n",
    "    \"\"\"to change tabs and newlines to spaces\"\"\"\n",
    "    return field.replace('\\t', ' ').replace('\\n', ' ')\n",
    "\n",
    "\n",
    "def clean_commas(field: str) -> str:\n",
    "    \"\"\"to remove commas\"\"\"\n",
    "    return field.replace(',', '')\n",
    "\n",
    "\n",
    "def clean_currency(field: str) -> str:\n",
    "    \"\"\"to remove ‘$’\"\"\"\n",
    "    return field.replace('$', '')\n",
    "\n",
    "\n",
    "def clean_percent(field: str) -> str:\n",
    "    \"\"\"to remove ‘%’\"\"\"\n",
    "    return field.replace('%', '')\n"
   ],
   "metadata": {
    "collapsed": false,
    "pycharm": {
     "name": "#%%\n"
    }
   }
  },
  {
   "cell_type": "code",
   "execution_count": 47,
   "outputs": [],
   "source": [
    "def get_sku(field: str) -> str:\n",
    "    \"\"\"returns the contents of a field after removing leading or trailing spaces\"\"\"\n",
    "    return clean_spaces(field)\n",
    "\n",
    "\n",
    "def get_description(field: str) -> str:\n",
    "    \"\"\"returns the contents of a field after replacing tabs and new lines with spaces\"\"\"\n",
    "    return clean_whitespace(field)\n",
    "\n",
    "\n",
    "def get_currency(field: str) -> float:\n",
    "    \"\"\"returns the contents of a field after removing ‘$’ and commas and converting to float\"\"\"\n",
    "    return float(clean_currency(clean_commas(field)))\n",
    "\n",
    "\n",
    "def get_integer(field: str) -> int:\n",
    "    \"\"\"returns the contents of a field after removing commas and converting to integer\"\"\"\n",
    "    return int(clean_commas(field))\n",
    "\n",
    "\n",
    "def get_percent(field: str) -> float:\n",
    "    \"\"\"returns the contents of a field after removing ‘%’ and commas and converting to fraction, for example float(field_contents) / 100\"\"\"\n",
    "    return float(clean_percent(clean_commas(field))) / 100"
   ],
   "metadata": {
    "collapsed": false,
    "pycharm": {
     "name": "#%%\n"
    }
   }
  },
  {
   "cell_type": "code",
   "execution_count": 48,
   "outputs": [
    {
     "name": "stdout",
     "output_type": "stream",
     "text": [
      "['13508', 'Budget Widget Extra Large 1000-pack', 207.49, 270.203, 461, 0.302]\n",
      "['1261', 'Super Whatsit Mini Dozen', 1091.33, 1485.85, 368, 0.361]\n",
      "['49367', 'Super Gizmo Extra Large Gross', 1977.36, 2589.87, 2585, 0.31]\n",
      "['39655', 'Student Gadget Mini Gross', 437.97, 656.749, 4452, 0.5]\n"
     ]
    }
   ],
   "source": [
    "for row in convert_data(products[2:], if_converter):\n",
    "    print(row)"
   ],
   "metadata": {
    "collapsed": false,
    "pycharm": {
     "name": "#%%\n"
    }
   }
  },
  {
   "cell_type": "markdown",
   "source": [
    "The refactored code is cleaner but could lead to a proliferation of \"mini-functions\". One potential source of confusion is for \"clean_whitespace\", some places might want whitespace characters turned into a single space character but others might want to expand tabs into 4 spaces."
   ],
   "metadata": {
    "collapsed": false,
    "pycharm": {
     "name": "#%% md\n"
    }
   }
  },
  {
   "cell_type": "code",
   "execution_count": 48,
   "outputs": [],
   "source": [],
   "metadata": {
    "collapsed": false,
    "pycharm": {
     "name": "#%%\n"
    }
   }
  }
 ],
 "metadata": {
  "kernelspec": {
   "display_name": "Python 3",
   "language": "python",
   "name": "python3"
  },
  "language_info": {
   "codemirror_mode": {
    "name": "ipython",
    "version": 2
   },
   "file_extension": ".py",
   "mimetype": "text/x-python",
   "name": "python",
   "nbconvert_exporter": "python",
   "pygments_lexer": "ipython2",
   "version": "2.7.6"
  }
 },
 "nbformat": 4,
 "nbformat_minor": 0
}