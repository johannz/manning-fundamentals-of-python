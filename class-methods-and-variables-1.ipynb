{
 "cells": [
  {
   "cell_type": "markdown",
   "source": [
    "Manning.com LiveProject - Class methods and variables\n",
    "\n",
    "Unit 3 Solution 1\n",
    "\n",
    "Author: Adam Rinehart\n",
    "\n",
    "Date: 08/01/22"
   ],
   "metadata": {
    "collapsed": false,
    "pycharm": {
     "name": "#%% md\n"
    }
   }
  },
  {
   "cell_type": "code",
   "execution_count": 130,
   "metadata": {
    "collapsed": true,
    "pycharm": {
     "name": "#%%\n"
    }
   },
   "outputs": [],
   "source": [
    "class Connection:\n",
    "    port = 55000\n",
    "    conn_limit = 10\n",
    "    conn_count = 0\n",
    "\n",
    "    def __init__(self, host):\n",
    "        if(self.conn_count < self.conn_limit):\n",
    "            # self.conn_count would assign to the instance field, not the class field\n",
    "            # self.conn_count += 1\n",
    "\n",
    "            # add 1 to the class's connection_count\n",
    "            Connection.conn_count += 1\n",
    "            # set the host for the instance\n",
    "            self.host = host\n",
    "            # set the port based on the class variable port\n",
    "            self.port = Connection.port + self.conn_count\n",
    "\n",
    "\n",
    "    def close(self):\n",
    "        # reduce the class's connection_count by 1\n",
    "        # self.conn_count = self.conn_count - 1\n",
    "        # self.__class__.conn_count = self.__class__.conn_count - 1\n",
    "        Connection.conn_count -= 1\n",
    "\n",
    "    def __repr__(self):\n",
    "        return f\"{self.host}, {self.port}\""
   ]
  },
  {
   "cell_type": "code",
   "execution_count": 131,
   "outputs": [
    {
     "name": "stdout",
     "output_type": "stream",
     "text": [
      "My Instance http://localhost, 55001\n",
      "{'__module__': '__main__', 'port': 55000, 'conn_limit': 10, 'conn_count': 1, '__init__': <function Connection.__init__ at 0x0000025D32EB2820>, 'close': <function Connection.close at 0x0000025D32EB29D0>, '__repr__': <function Connection.__repr__ at 0x0000025D32EB2E50>, '__dict__': <attribute '__dict__' of 'Connection' objects>, '__weakref__': <attribute '__weakref__' of 'Connection' objects>, '__doc__': None}\n",
      "{'host': 'http://localhost', 'port': 55001}\n",
      "1\n",
      "1\n"
     ]
    }
   ],
   "source": [
    "my_instance1 = Connection(\"http://localhost\")\n",
    "print(f'My Instance {my_instance1}')\n",
    "print(Connection.__dict__)\n",
    "print(my_instance1.__dict__)\n",
    "print(Connection.conn_count)\n",
    "print(my_instance1.conn_count)"
   ],
   "metadata": {
    "collapsed": false,
    "pycharm": {
     "name": "#%%\n"
    }
   }
  },
  {
   "cell_type": "code",
   "execution_count": 132,
   "outputs": [
    {
     "name": "stdout",
     "output_type": "stream",
     "text": [
      "My Instance http://octopi.local, 55002\n",
      "{'__module__': '__main__', 'port': 55000, 'conn_limit': 10, 'conn_count': 2, '__init__': <function Connection.__init__ at 0x0000025D32EB2820>, 'close': <function Connection.close at 0x0000025D32EB29D0>, '__repr__': <function Connection.__repr__ at 0x0000025D32EB2E50>, '__dict__': <attribute '__dict__' of 'Connection' objects>, '__weakref__': <attribute '__weakref__' of 'Connection' objects>, '__doc__': None}\n",
      "{'host': 'http://octopi.local', 'port': 55002}\n",
      "2\n",
      "2\n",
      "2\n"
     ]
    }
   ],
   "source": [
    "my_instance2 = Connection(\"http://octopi.local\")\n",
    "print(f'My Instance {my_instance2}')\n",
    "print(Connection.__dict__)\n",
    "print(my_instance2.__dict__)\n",
    "print(Connection.conn_count)\n",
    "print(my_instance1.conn_count)\n",
    "print(my_instance2.conn_count)"
   ],
   "metadata": {
    "collapsed": false,
    "pycharm": {
     "name": "#%%\n"
    }
   }
  },
  {
   "cell_type": "code",
   "execution_count": 133,
   "outputs": [
    {
     "name": "stdout",
     "output_type": "stream",
     "text": [
      "{'__module__': '__main__', 'port': 55001, 'conn_limit': 10, 'conn_count': 2, '__init__': <function Connection.__init__ at 0x0000025D32EB2820>, 'close': <function Connection.close at 0x0000025D32EB29D0>, '__repr__': <function Connection.__repr__ at 0x0000025D32EB2E50>, '__dict__': <attribute '__dict__' of 'Connection' objects>, '__weakref__': <attribute '__weakref__' of 'Connection' objects>, '__doc__': None}\n",
      "{'host': 'http://localhost', 'port': 55001}\n"
     ]
    }
   ],
   "source": [
    "Connection.port = 55001\n",
    "print(Connection.__dict__)\n",
    "print(my_instance1.__dict__)"
   ],
   "metadata": {
    "collapsed": false,
    "pycharm": {
     "name": "#%%\n"
    }
   }
  },
  {
   "cell_type": "code",
   "execution_count": 134,
   "outputs": [
    {
     "name": "stdout",
     "output_type": "stream",
     "text": [
      "{'__module__': '__main__', 'port': 55001, 'conn_limit': 10, 'conn_count': 2, '__init__': <function Connection.__init__ at 0x0000025D32EB2820>, 'close': <function Connection.close at 0x0000025D32EB29D0>, '__repr__': <function Connection.__repr__ at 0x0000025D32EB2E50>, '__dict__': <attribute '__dict__' of 'Connection' objects>, '__weakref__': <attribute '__weakref__' of 'Connection' objects>, '__doc__': None}\n",
      "{'host': 'http://localhost', 'port': 55002}\n"
     ]
    }
   ],
   "source": [
    "my_instance1.port = 55002\n",
    "print(Connection.__dict__)\n",
    "print(my_instance1.__dict__)"
   ],
   "metadata": {
    "collapsed": false,
    "pycharm": {
     "name": "#%%\n"
    }
   }
  },
  {
   "cell_type": "code",
   "execution_count": 135,
   "outputs": [
    {
     "name": "stdout",
     "output_type": "stream",
     "text": [
      "My Instance http://localhost, 55002\n",
      "{'__module__': '__main__', 'port': 55001, 'conn_limit': 10, 'conn_count': 1, '__init__': <function Connection.__init__ at 0x0000025D32EB2820>, 'close': <function Connection.close at 0x0000025D32EB29D0>, '__repr__': <function Connection.__repr__ at 0x0000025D32EB2E50>, '__dict__': <attribute '__dict__' of 'Connection' objects>, '__weakref__': <attribute '__weakref__' of 'Connection' objects>, '__doc__': None}\n",
      "{'host': 'http://localhost', 'port': 55002}\n"
     ]
    }
   ],
   "source": [
    "my_instance1.close()\n",
    "print(f'My Instance {my_instance1}')\n",
    "print(Connection.__dict__)\n",
    "print(my_instance1.__dict__)"
   ],
   "metadata": {
    "collapsed": false,
    "pycharm": {
     "name": "#%%\n"
    }
   }
  },
  {
   "cell_type": "code",
   "execution_count": 136,
   "outputs": [
    {
     "name": "stdout",
     "output_type": "stream",
     "text": [
      "1\n",
      "1\n",
      "1\n"
     ]
    }
   ],
   "source": [
    "print(Connection.conn_count)\n",
    "print(my_instance1.conn_count)\n",
    "print(my_instance2.conn_count)"
   ],
   "metadata": {
    "collapsed": false,
    "pycharm": {
     "name": "#%%\n"
    }
   }
  },
  {
   "cell_type": "code",
   "execution_count": 137,
   "outputs": [],
   "source": [
    "del my_instance1\n",
    "del my_instance2"
   ],
   "metadata": {
    "collapsed": false,
    "pycharm": {
     "name": "#%%\n"
    }
   }
  },
  {
   "cell_type": "code",
   "execution_count": 138,
   "outputs": [],
   "source": [
    "class ConnectionWithList:\n",
    "    port = 55000\n",
    "    conn_limit = 10\n",
    "    connections = []\n",
    "\n",
    "    def __init__(self, host):\n",
    "        if len(self.connections) < self.conn_limit:\n",
    "            # You could make self.connections point to ConnectionWithList.collections but you don't need to\n",
    "            # It gets resolved correctly and the change writes-thru to the connections list\n",
    "            self.connections.append(self)\n",
    "            # implement using the connections list\n",
    "            self.host = host\n",
    "            self.port = self.port + len(self.connections)\n",
    "\n",
    "    def close(self):\n",
    "        self.connections.remove(self)\n",
    "\n",
    "    def __repr__(self):\n",
    "        return f\"({self.host}, {self.port})\""
   ],
   "metadata": {
    "collapsed": false,
    "pycharm": {
     "name": "#%%\n"
    }
   }
  },
  {
   "cell_type": "code",
   "execution_count": 139,
   "outputs": [
    {
     "name": "stdout",
     "output_type": "stream",
     "text": [
      "[(http://localhost, 55001), (http://octopi.local, 55002)]\n",
      "[(http://localhost, 55001), (http://octopi.local, 55002)]\n",
      "[(http://localhost, 55001), (http://octopi.local, 55002)]\n"
     ]
    }
   ],
   "source": [
    "my_instance1 = ConnectionWithList('http://localhost')\n",
    "my_instance2 = ConnectionWithList('http://octopi.local')\n",
    "\n",
    "print(ConnectionWithList.connections)\n",
    "print(my_instance1.connections)\n",
    "print(my_instance2.connections)"
   ],
   "metadata": {
    "collapsed": false,
    "pycharm": {
     "name": "#%%\n"
    }
   }
  },
  {
   "cell_type": "code",
   "execution_count": 140,
   "outputs": [
    {
     "name": "stdout",
     "output_type": "stream",
     "text": [
      "{'__module__': '__main__', 'port': 55000, 'conn_limit': 10, 'connections': [(http://localhost, 55001), (http://octopi.local, 55002)], '__init__': <function ConnectionWithList.__init__ at 0x0000025D32ECDD30>, 'close': <function ConnectionWithList.close at 0x0000025D32ED7940>, '__repr__': <function ConnectionWithList.__repr__ at 0x0000025D32ED7790>, '__dict__': <attribute '__dict__' of 'ConnectionWithList' objects>, '__weakref__': <attribute '__weakref__' of 'ConnectionWithList' objects>, '__doc__': None}\n",
      "{'host': 'http://localhost', 'port': 55001}\n",
      "{'host': 'http://octopi.local', 'port': 55002}\n"
     ]
    }
   ],
   "source": [
    "print(ConnectionWithList.__dict__)\n",
    "print(my_instance1.__dict__)\n",
    "print(my_instance2.__dict__)"
   ],
   "metadata": {
    "collapsed": false,
    "pycharm": {
     "name": "#%%\n"
    }
   }
  },
  {
   "cell_type": "code",
   "execution_count": 141,
   "outputs": [
    {
     "name": "stdout",
     "output_type": "stream",
     "text": [
      "[]\n",
      "[]\n",
      "[]\n"
     ]
    }
   ],
   "source": [
    "my_instance1.close()\n",
    "my_instance2.close()\n",
    "print(ConnectionWithList.connections)\n",
    "print(my_instance1.connections)\n",
    "print(my_instance2.connections)"
   ],
   "metadata": {
    "collapsed": false,
    "pycharm": {
     "name": "#%%\n"
    }
   }
  },
  {
   "cell_type": "code",
   "execution_count": 141,
   "outputs": [],
   "source": [],
   "metadata": {
    "collapsed": false,
    "pycharm": {
     "name": "#%%\n"
    }
   }
  }
 ],
 "metadata": {
  "kernelspec": {
   "display_name": "Python 3",
   "language": "python",
   "name": "python3"
  },
  "language_info": {
   "codemirror_mode": {
    "name": "ipython",
    "version": 2
   },
   "file_extension": ".py",
   "mimetype": "text/x-python",
   "name": "python",
   "nbconvert_exporter": "python",
   "pygments_lexer": "ipython2",
   "version": "2.7.6"
  }
 },
 "nbformat": 4,
 "nbformat_minor": 0
}