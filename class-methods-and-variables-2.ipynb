{
 "cells": [
  {
   "cell_type": "markdown",
   "source": [
    "Manning.com LiveProject - Class methods and variables\n",
    "\n",
    "Unit 3 Solution 2\n",
    "\n",
    "Author: Adam Rinehart\n",
    "\n",
    "Date: 08/01/22"
   ],
   "metadata": {
    "collapsed": false,
    "pycharm": {
     "name": "#%% md\n"
    }
   }
  },
  {
   "cell_type": "code",
   "execution_count": 33,
   "metadata": {
    "collapsed": true,
    "pycharm": {
     "name": "#%%\n"
    }
   },
   "outputs": [],
   "source": [
    "class Connection:\n",
    "    port = 55000\n",
    "    conn_limit = 10\n",
    "    conn_count = 0\n",
    "\n",
    "    def __init__(self, host):\n",
    "        if Connection.conn_count < Connection.conn_limit:\n",
    "            Connection.conn_count += 1\n",
    "        # set the host for the instance\n",
    "        self.host = host\n",
    "        # set the port based on the class variable port\n",
    "        self.port = Connection.port + Connection.conn_count\n",
    "\n",
    "    def close(self):\n",
    "        # reduce the class's connection_count by 1\n",
    "        Connection.conn_count -= 1\n",
    "\n",
    "    def __repr__(self):\n",
    "        return f\"{self.host}, {self.port}\""
   ]
  },
  {
   "cell_type": "code",
   "execution_count": 34,
   "outputs": [
    {
     "data": {
      "text/plain": "http://localhost, 55001"
     },
     "execution_count": 34,
     "metadata": {},
     "output_type": "execute_result"
    }
   ],
   "source": [
    "my_instance1 = Connection(\"http://localhost\")\n",
    "my_instance1"
   ],
   "metadata": {
    "collapsed": false,
    "pycharm": {
     "name": "#%%\n"
    }
   }
  },
  {
   "cell_type": "markdown",
   "source": [
    "Explicitly naming the class when accessing class variables works but it locks you into an implementation. You can't change remove or change the class field, for instance to change it to a list of connections."
   ],
   "metadata": {
    "collapsed": false,
    "pycharm": {
     "name": "#%% md\n"
    }
   }
  },
  {
   "cell_type": "code",
   "execution_count": 35,
   "outputs": [
    {
     "data": {
      "text/plain": "http://localhost, 55001"
     },
     "execution_count": 35,
     "metadata": {},
     "output_type": "execute_result"
    }
   ],
   "source": [
    "class Connection:\n",
    "    port = 55000\n",
    "    conn_limit = 10\n",
    "    conn_count = 0\n",
    "\n",
    "    def __init__(self, host):\n",
    "        if self.conn_count < self.conn_limit:\n",
    "            self.__class__.conn_count += 1\n",
    "        # set the host for the instance\n",
    "        self.host = host\n",
    "        # set the port based on the class variable port\n",
    "        self.port = self.__class__.port + self.__class__.conn_count\n",
    "\n",
    "    def close(self):\n",
    "        # reduce the class's connection_count by 1\n",
    "        self.__class__.conn_count -= 1\n",
    "\n",
    "    def __repr__(self):\n",
    "        return f\"{self.host}, {self.port}\"\n",
    "\n",
    "\n",
    "my_instance1 = Connection(\"http://localhost\")\n",
    "my_instance1"
   ],
   "metadata": {
    "collapsed": false,
    "pycharm": {
     "name": "#%%\n"
    }
   }
  },
  {
   "cell_type": "code",
   "execution_count": 36,
   "outputs": [
    {
     "data": {
      "text/plain": "http://localhost, 55001"
     },
     "execution_count": 36,
     "metadata": {},
     "output_type": "execute_result"
    }
   ],
   "source": [
    "class Connection:\n",
    "    port = 55000\n",
    "    conn_limit = 10\n",
    "    conn_count = 0\n",
    "\n",
    "    @classmethod\n",
    "    def get_next_port(cls):\n",
    "        return cls.port + cls.conn_count\n",
    "\n",
    "    @classmethod\n",
    "    def get_connection_count(cls):\n",
    "        return cls.conn_count\n",
    "\n",
    "    @classmethod\n",
    "    def add_connection(cls):\n",
    "        cls.conn_count += 1\n",
    "\n",
    "    @classmethod\n",
    "    def remove_connection(cls):\n",
    "        cls.conn_count -= 1\n",
    "\n",
    "    def __init__(self, host):\n",
    "        if Connection.get_connection_count() < self.conn_limit:\n",
    "            # Can use either Explicit class name\n",
    "            Connection.add_connection()\n",
    "        # set the host for the instance\n",
    "        self.host = host\n",
    "        # Or a self reference - Since it's annotated classmethod, python sends the class as the first argument, not the self\n",
    "        self.port = self.get_next_port()\n",
    "\n",
    "    def close(self):\n",
    "        self.remove_connection()\n",
    "\n",
    "    def __repr__(self):\n",
    "        return f\"{self.host}, {self.port}\"\n",
    "\n",
    "\n",
    "my_instance1 = Connection(\"http://localhost\")\n",
    "my_instance1"
   ],
   "metadata": {
    "collapsed": false,
    "pycharm": {
     "name": "#%%\n"
    }
   }
  },
  {
   "cell_type": "code",
   "execution_count": 37,
   "outputs": [
    {
     "data": {
      "text/plain": "{'host': 'http://localhost', 'port': 55001}"
     },
     "execution_count": 37,
     "metadata": {},
     "output_type": "execute_result"
    }
   ],
   "source": [
    "my_instance1.__dict__"
   ],
   "metadata": {
    "collapsed": false,
    "pycharm": {
     "name": "#%%\n"
    }
   }
  },
  {
   "cell_type": "code",
   "execution_count": 38,
   "outputs": [
    {
     "data": {
      "text/plain": "mappingproxy({'__module__': '__main__',\n              'port': 55000,\n              'conn_limit': 10,\n              'conn_count': 1,\n              'get_next_port': <classmethod at 0x22f2cf5d820>,\n              'get_connection_count': <classmethod at 0x22f2cf5d3d0>,\n              'add_connection': <classmethod at 0x22f2c32f430>,\n              'remove_connection': <classmethod at 0x22f2cda52b0>,\n              '__init__': <function __main__.Connection.__init__(self, host)>,\n              'close': <function __main__.Connection.close(self)>,\n              '__repr__': <function __main__.Connection.__repr__(self)>,\n              '__dict__': <attribute '__dict__' of 'Connection' objects>,\n              '__weakref__': <attribute '__weakref__' of 'Connection' objects>,\n              '__doc__': None})"
     },
     "execution_count": 38,
     "metadata": {},
     "output_type": "execute_result"
    }
   ],
   "source": [
    "Connection.__dict__"
   ],
   "metadata": {
    "collapsed": false,
    "pycharm": {
     "name": "#%%\n"
    }
   }
  },
  {
   "cell_type": "code",
   "execution_count": 39,
   "outputs": [
    {
     "data": {
      "text/plain": "http://localhost, 55001"
     },
     "execution_count": 39,
     "metadata": {},
     "output_type": "execute_result"
    }
   ],
   "source": [
    "class Connection:\n",
    "    port = 55000\n",
    "    conn_limit = 10\n",
    "    connections = []\n",
    "\n",
    "    @classmethod\n",
    "    def get_next_port(cls):\n",
    "        return cls.port + len(cls.connections)\n",
    "\n",
    "    @classmethod\n",
    "    def get_connection_count(cls):\n",
    "        return  len(cls.connections)\n",
    "\n",
    "    @classmethod\n",
    "    def add_connection(cls, connection):\n",
    "        if len(cls.connections) < cls.conn_limit:\n",
    "            cls.connections.append(connection)\n",
    "\n",
    "    @classmethod\n",
    "    def remove_connection(cls, connection):\n",
    "        cls.connections.remove(connection)\n",
    "\n",
    "    def __init__(self, host):\n",
    "        # set the host for the instance\n",
    "        self.host = host\n",
    "        self.add_connection(self)\n",
    "        self.port = self.get_next_port()\n",
    "\n",
    "    def close(self):\n",
    "        self.remove_connection(self)\n",
    "\n",
    "    def __repr__(self):\n",
    "        return f\"{self.host}, {self.port}\"\n",
    "\n",
    "\n",
    "my_instance1 = Connection(\"http://localhost\")\n",
    "my_instance1\n"
   ],
   "metadata": {
    "collapsed": false,
    "pycharm": {
     "name": "#%%\n"
    }
   }
  },
  {
   "cell_type": "code",
   "execution_count": 40,
   "outputs": [
    {
     "data": {
      "text/plain": "mappingproxy({'__module__': '__main__',\n              'port': 55000,\n              'conn_limit': 10,\n              'connections': [http://localhost, 55001],\n              'get_next_port': <classmethod at 0x22f2cf48130>,\n              'get_connection_count': <classmethod at 0x22f2cf48df0>,\n              'add_connection': <classmethod at 0x22f2cf480d0>,\n              'remove_connection': <classmethod at 0x22f2cf48850>,\n              '__init__': <function __main__.Connection.__init__(self, host)>,\n              'close': <function __main__.Connection.close(self)>,\n              '__repr__': <function __main__.Connection.__repr__(self)>,\n              '__dict__': <attribute '__dict__' of 'Connection' objects>,\n              '__weakref__': <attribute '__weakref__' of 'Connection' objects>,\n              '__doc__': None})"
     },
     "execution_count": 40,
     "metadata": {},
     "output_type": "execute_result"
    }
   ],
   "source": [
    "Connection.__dict__"
   ],
   "metadata": {
    "collapsed": false,
    "pycharm": {
     "name": "#%%\n"
    }
   }
  },
  {
   "cell_type": "code",
   "execution_count": 41,
   "outputs": [
    {
     "data": {
      "text/plain": "{'host': 'http://localhost', 'port': 55001}"
     },
     "execution_count": 41,
     "metadata": {},
     "output_type": "execute_result"
    }
   ],
   "source": [
    "my_instance1.__dict__"
   ],
   "metadata": {
    "collapsed": false,
    "pycharm": {
     "name": "#%%\n"
    }
   }
  },
  {
   "cell_type": "code",
   "execution_count": 41,
   "outputs": [],
   "source": [],
   "metadata": {
    "collapsed": false,
    "pycharm": {
     "name": "#%%\n"
    }
   }
  }
 ],
 "metadata": {
  "kernelspec": {
   "display_name": "Python 3",
   "language": "python",
   "name": "python3"
  },
  "language_info": {
   "codemirror_mode": {
    "name": "ipython",
    "version": 2
   },
   "file_extension": ".py",
   "mimetype": "text/x-python",
   "name": "python",
   "nbconvert_exporter": "python",
   "pygments_lexer": "ipython2",
   "version": "2.7.6"
  }
 },
 "nbformat": 4,
 "nbformat_minor": 0
}